{
 "cells": [
  {
   "cell_type": "code",
   "execution_count": 1,
   "metadata": {},
   "outputs": [],
   "source": [
    "import numpy as np\n",
    "import matplotlib.pyplot as plt\n",
    "import csv\n",
    "from random import *"
   ]
  },
  {
   "cell_type": "code",
   "execution_count": 2,
   "metadata": {},
   "outputs": [],
   "source": [
    "def initInfluencers():\n",
    "    influencers = []\n",
    "    with open('influencers.csv') as dataCsv:\n",
    "        readCSV = csv.reader(dataCsv, delimiter=',')\n",
    "        next(readCSV)\n",
    "        for row in readCSV:\n",
    "            data = {'id' : row[0], 'followers' : row[1], 'engagement' : row[2], 'fuzziness' : 0}\n",
    "            influencers.append(data)\n",
    "    return influencers"
   ]
  },
  {
   "cell_type": "code",
   "execution_count": 3,
   "metadata": {},
   "outputs": [],
   "source": [
    "def fuzzification(influencers):\n",
    "    membership = []\n",
    "    \n",
    "    #followers    \n",
    "    few = range(0, 30001)\n",
    "    downFew = range(30001, 40001)\n",
    "    upMed = range(30001, 40001)\n",
    "    medium = range(40001, 70001)\n",
    "    downMed = range(70001, 80001)\n",
    "    upMany = range(70001, 80001)\n",
    "    many = range(80001, 100001)\n",
    "\n",
    "    #Engagement\n",
    "    poor = [0.0, 2.00]\n",
    "    downPoor = [2.01, 3.50]\n",
    "    avg = [4.51, 7.00]\n",
    "    upAvg = [2.71, 4.50]\n",
    "    downAvg = [7.01, 8.51]\n",
    "    good = [8.51, 10.00]\n",
    "    upGood = [7.01, 8.51]\n",
    "    \n",
    "    for i in range(len(influencers)):\n",
    "        fewVal = 0\n",
    "        medVal = 0\n",
    "        manyVal = 0\n",
    "        poorVal = 0\n",
    "        avgVal = 0\n",
    "        goodVal = 0\n",
    "        \n",
    "        folls = int(influencers[i][\"followers\"])\n",
    "        engg = float(influencers[i][\"engagement\"])\n",
    "        \n",
    "        if folls <= max(few) :\n",
    "            fewVal = 1\n",
    "        elif folls >= min(medium) and folls <= max(medium):\n",
    "            medVal = 1\n",
    "        elif folls >= min(many) and folls <= max(many):\n",
    "            manyVal = 1\n",
    "        elif folls >= min(downFew) and folls <= max(upMed):\n",
    "            medVal = (folls - min(upMed)) / (max(downFew) - min(upMed))\n",
    "            fewVal = (max(downFew) - folls) / (max(downFew) - max(few))\n",
    "            manyVal = 0\n",
    "        elif folls >= min(downMed) and folls <= max(upMany):\n",
    "            manyVal = (folls - min(upMany)) / (max(downMed) - min(upMany))\n",
    "            medVal = (max(downMed) - folls) / (max(downMed) - min(downMed))\n",
    "        \n",
    "        if engg <= max(poor):\n",
    "            poorVal = 1\n",
    "        elif engg >= min(avg) and engg <= max(avg):\n",
    "            avgVal = 1\n",
    "        elif engg >= min(good) and engg <= max(good):\n",
    "            goodVal = 1\n",
    "        elif engg >= min(downPoor) and engg <= max(upAvg):\n",
    "            poorVal = (max(downPoor) - engg)  / (max(downPoor) - max(poor))\n",
    "            avgVal = (engg - min(upAvg)) / (max(downPoor) - min(upAvg))\n",
    "        elif engg >= min(downAvg) and engg <= max(upGood):\n",
    "            avgVal = (max(downAvg) - engg) / (max(downAvg) - min(downAvg))\n",
    "            goodVal = (engg - min(upGood)) / (max(downAvg) - min(upGood))\n",
    "            \n",
    "        data = {'few' : fewVal, 'medium' : medVal, 'many' : manyVal, 'poor' : poorVal, 'average' : avgVal, 'good': goodVal}\n",
    "        membership.append(data)\n",
    "    return membership"
   ]
  },
  {
   "cell_type": "code",
   "execution_count": 4,
   "metadata": {},
   "outputs": [],
   "source": [
    "def inference(membership):\n",
    "    inferred = []\n",
    "    for i in range(len(membership)):\n",
    "        accepted = max(min(membership[i]['many'], membership[i]['good'])\n",
    "                      , min(membership[i]['many'], membership[i]['average'])\n",
    "                      , min(membership[i]['medium'], membership[i]['good']))\n",
    "        considered = max(min(membership[i]['many'], membership[i]['poor'])\n",
    "                        , min(membership[i]['medium'], membership[i]['average'])\n",
    "                        , min(membership[i]['few'], membership[i]['good']))\n",
    "        rejected = max(min(membership[i]['medium'], membership[i]['poor'])\n",
    "                      , min(membership[i]['few'], membership[i]['average'])\n",
    "                      , min(membership[i]['few'], membership[i]['poor']))\n",
    "        data = {'accepted' : accepted, 'considered' : considered, 'rejected' : rejected}\n",
    "        inferred.append(data)\n",
    "    return inferred"
   ]
  },
  {
   "cell_type": "code",
   "execution_count": 5,
   "metadata": {},
   "outputs": [],
   "source": [
    "def defuzzification(inferred, influencers):\n",
    "    rejectPoint = 15\n",
    "    considPoint = 50\n",
    "    acceptPoint = 85\n",
    "    \n",
    "    for i in range(len(influencers)):\n",
    "        result = ((rejectPoint * inferred[i]['rejected']) + (considPoint * inferred[i]['considered']) + (acceptPoint * inferred[i]['accepted'])\n",
    "                 / (inferred[i]['rejected'] + inferred[i]['considered'] + inferred[i]['accepted']))\n",
    "        influencers[i]['fuzziness'] = result"
   ]
  },
  {
   "cell_type": "code",
   "execution_count": 6,
   "metadata": {},
   "outputs": [],
   "source": [
    "def writeToText(result):\n",
    "    f = open(\"chosen.csv\", \"w\")\n",
    "    for i in range(20):\n",
    "        f.write(str(result[i]))\n",
    "        f.write(\"\\n\")\n",
    "    f.close"
   ]
  },
  {
   "cell_type": "code",
   "execution_count": 7,
   "metadata": {},
   "outputs": [],
   "source": [
    "def plotTask():\n",
    "    print('Defuzifikasi menggunakan Sugeno')\n",
    "    plt.figure(1)\n",
    "    plt.plot([0, 30000, 30001, 40000], [1, 1, 1, 0], label='few')\n",
    "    plt.plot([30001, 40000, 40001, 70000, 70001, 80000], [0, 1, 1, 1, 1, 0], label='medium')\n",
    "    plt.plot([70001, 80000, 80001, 100000], [0, 1, 1, 1], label='many')\n",
    "    plt.xlabel('Followers')\n",
    "    plt.legend()\n",
    "    \n",
    "    plt.figure(2)\n",
    "    plt.plot([0.0, 2.00, 2.01, 3.50], [1, 1, 1, 0], label='poor')\n",
    "    plt.plot([2.71, 4.50, 4.51, 7.00, 7.01, 8.51], [0, 1, 1, 1, 1, 0], label='average')\n",
    "    plt.plot([7.01, 8.51, 8.51, 10.00], [0, 1, 1, 1], label='good')\n",
    "    plt.xlabel('Engagement')\n",
    "    plt.legend()"
   ]
  },
  {
   "cell_type": "code",
   "execution_count": 12,
   "metadata": {},
   "outputs": [],
   "source": [
    "def main():\n",
    "    plotTask()\n",
    "    influencers = initInfluencers()\n",
    "    membership = fuzzification(influencers)\n",
    "    inferred = inference(membership)\n",
    "    defuzzification(inferred, influencers)\n",
    "\n",
    "    sortedList = sorted(influencers, key=lambda k: (k['fuzziness'], k['engagement']), reverse = True)\n",
    "    chosen = []\n",
    "    for i in range(20):\n",
    "        print(sortedList[i])\n",
    "        chosen.append(sortedList[i]['id'])\n",
    "    writeToText(chosen)"
   ]
  },
  {
   "cell_type": "code",
   "execution_count": 13,
   "metadata": {},
   "outputs": [
    {
     "name": "stdout",
     "output_type": "stream",
     "text": [
      "Defuzifikasi menggunakan Sugeno\n",
      "{'id': '13', 'followers': '90773', 'engagement': '6.7', 'fuzziness': 85.0}\n",
      "{'id': '11', 'followers': '95117', 'engagement': '6.6', 'fuzziness': 85.0}\n",
      "{'id': '41', 'followers': '81909', 'engagement': '3.6', 'fuzziness': 85.0}\n",
      "{'id': '75', 'followers': '94551', 'engagement': '3.0', 'fuzziness': 61.214859437751}\n",
      "{'id': '39', 'followers': '9890', 'engagement': '9.4', 'fuzziness': 50.0}\n",
      "{'id': '59', 'followers': '58987', 'engagement': '6.7', 'fuzziness': 50.0}\n",
      "{'id': '60', 'followers': '58403', 'engagement': '5.2', 'fuzziness': 50.0}\n",
      "{'id': '19', 'followers': '55217', 'engagement': '4.9', 'fuzziness': 50.0}\n",
      "{'id': '72', 'followers': '61456', 'engagement': '4.6', 'fuzziness': 50.0}\n",
      "{'id': '61', 'followers': '53701', 'engagement': '4.5', 'fuzziness': 50.0}\n",
      "{'id': '2', 'followers': '38237', 'engagement': '5.8', 'fuzziness': 43.828618411841184}\n",
      "{'id': '76', 'followers': '39175', 'engagement': '3.3', 'fuzziness': 39.341772151898724}\n",
      "{'id': '53', 'followers': '56257', 'engagement': '3.2', 'fuzziness': 34.01265822784811}\n",
      "{'id': '25', 'followers': '77585', 'engagement': '2.7', 'fuzziness': 30.289528952895285}\n",
      "{'id': '67', 'followers': '31642', 'engagement': '3.4', 'fuzziness': 20.742820582058204}\n",
      "{'id': '100', 'followers': '15788', 'engagement': '6.8', 'fuzziness': 15.0}\n",
      "{'id': '48', 'followers': '19925', 'engagement': '6.5', 'fuzziness': 15.0}\n",
      "{'id': '74', 'followers': '22394', 'engagement': '6.3', 'fuzziness': 15.0}\n",
      "{'id': '93', 'followers': '27657', 'engagement': '5.5', 'fuzziness': 15.0}\n",
      "{'id': '34', 'followers': '10953', 'engagement': '3.9', 'fuzziness': 15.0}\n"
     ]
    },
    {
     "data": {
      "image/png": "[encoded data removed]",
      "text/plain": [
       "<Figure size 432x288 with 1 Axes>"
      ]
     },
     "metadata": {
      "needs_background": "light"
     },
     "output_type": "display_data"
    },
    {
     "data": {
      "image/png": "[encoded data removed]",
      "text/plain": [
       "<Figure size 432x288 with 1 Axes>"
      ]
     },
     "metadata": {
      "needs_background": "light"
     },
     "output_type": "display_data"
    }
   ],
   "source": [
    "main()"
   ]
  },
  {
   "cell_type": "code",
   "execution_count": null,
   "metadata": {},
   "outputs": [],
   "source": []
  }
 ],
 "metadata": {
  "kernelspec": {
   "display_name": "Python 3",
   "language": "python",
   "name": "python3"
  },
  "language_info": {
   "codemirror_mode": {
    "name": "ipython",
    "version": 3
   },
   "file_extension": ".py",
   "mimetype": "text/x-python",
   "name": "python",
   "nbconvert_exporter": "python",
   "pygments_lexer": "ipython3",
   "version": "3.7.1"
  }
 },
 "nbformat": 4,
 "nbformat_minor": 2
}
